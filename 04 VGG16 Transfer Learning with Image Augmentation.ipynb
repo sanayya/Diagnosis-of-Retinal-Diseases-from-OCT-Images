{
 "cells": [
  {
   "cell_type": "markdown",
   "metadata": {
    "id": "TfWEgbPgblp3"
   },
   "source": [
    "## Import relevant libraries "
   ]
  },
  {
   "cell_type": "code",
   "execution_count": 20,
   "metadata": {
    "id": "Io5NCIV7bkl3"
   },
   "outputs": [],
   "source": [
    "import warnings\n",
    "warnings.filterwarnings(\"ignore\")\n",
    "import os\n",
    "from keras.preprocessing.image import ImageDataGenerator\n",
    "import tensorflow as tf\n",
    "from tensorflow.keras.applications import VGG16\n",
    "from tensorflow.keras.layers import Flatten, Conv2D, BatchNormalization, Dropout, Dense\n",
    "from tensorflow.keras.models import Model\n",
    "from tensorflow.keras.callbacks import EarlyStopping, ModelCheckpoint, ReduceLROnPlateau\n",
    "import matplotlib.pyplot as plt\n",
    "from sklearn.metrics import confusion_matrix\n",
    "import numpy as np\n",
    "import seaborn as sns"
   ]
  },
  {
   "cell_type": "markdown",
   "metadata": {
    "id": "cxKEDCgz6z0K"
   },
   "source": [
    "## Apply VGG16 Transfer Learning with Image Augmentation"
   ]
  },
  {
   "cell_type": "code",
   "execution_count": 6,
   "metadata": {
    "colab": {
     "base_uri": "https://localhost:8080/"
    },
    "id": "8vw6FVrd6qjz",
    "outputId": "0046f2c8-1047-4b8a-b050-1b43028464bb"
   },
   "outputs": [
    {
     "name": "stdout",
     "output_type": "stream",
     "text": [
      "Found 66788 images belonging to 4 classes.\n",
      "Found 16696 images belonging to 4 classes.\n"
     ]
    }
   ],
   "source": [
    "# Reference: https://www.tensorflow.org/api_docs/python/tf/keras/preprocessing/image/ImageDataGenerator \n",
    "# Reference: https://stackoverflow.com/questions/53037510/can-flow-from-directory-get-train-and-validation-data-from-the-same-directory-in\n",
    "\n",
    "# generate batches of tensor image data with real-time data augmentation\n",
    "\n",
    "datagen=ImageDataGenerator(rescale=1./255,\n",
    "        shear_range=0.2,\n",
    "        zoom_range=0.2,\n",
    "        horizontal_flip=True,\n",
    "        validation_split=0.2)\n",
    "\n",
    "train_generator = datagen.flow_from_directory(\n",
    "    \"/content/OCT2017 /train\",\n",
    "    target_size = (224, 224),\n",
    "    batch_size=128,\n",
    "    class_mode = \"categorical\",\n",
    "    subset=\"training\")\n",
    "\n",
    "validation_generator = datagen.flow_from_directory(\n",
    "    \"/content/OCT2017 /train\",\n",
    "    target_size = (224, 224),\n",
    "    batch_size=128,\n",
    "    class_mode = \"categorical\",\n",
    "    subset=\"validation\")"
   ]
  },
  {
   "cell_type": "code",
   "execution_count": 32,
   "metadata": {
    "id": "zHazHC097SNO"
   },
   "outputs": [],
   "source": [
    "tf.keras.backend.clear_session()"
   ]
  },
  {
   "cell_type": "code",
   "execution_count": 33,
   "metadata": {
    "id": "2P_-j2ikTAbu"
   },
   "outputs": [],
   "source": [
    "# Reference: https://keras.io/api/applications/vgg/\n",
    "vgg16_model = VGG16(include_top=False,weights=\"imagenet\",pooling=None,input_shape=(224,224,3))"
   ]
  },
  {
   "cell_type": "code",
   "execution_count": 34,
   "metadata": {
    "id": "LgJ16nGWWjXl"
   },
   "outputs": [],
   "source": [
    "for layer in vgg16_model.layers:\n",
    "    layer.trainable = False"
   ]
  },
  {
   "cell_type": "code",
   "execution_count": 35,
   "metadata": {
    "colab": {
     "base_uri": "https://localhost:8080/"
    },
    "id": "hgZVHvU7TAjg",
    "outputId": "65b5f7e4-bb33-406a-e0d0-ce6d099f164a"
   },
   "outputs": [
    {
     "name": "stdout",
     "output_type": "stream",
     "text": [
      "Model: \"vgg16\"\n",
      "_________________________________________________________________\n",
      " Layer (type)                Output Shape              Param #   \n",
      "=================================================================\n",
      " input_1 (InputLayer)        [(None, 224, 224, 3)]     0         \n",
      "                                                                 \n",
      " block1_conv1 (Conv2D)       (None, 224, 224, 64)      1792      \n",
      "                                                                 \n",
      " block1_conv2 (Conv2D)       (None, 224, 224, 64)      36928     \n",
      "                                                                 \n",
      " block1_pool (MaxPooling2D)  (None, 112, 112, 64)      0         \n",
      "                                                                 \n",
      " block2_conv1 (Conv2D)       (None, 112, 112, 128)     73856     \n",
      "                                                                 \n",
      " block2_conv2 (Conv2D)       (None, 112, 112, 128)     147584    \n",
      "                                                                 \n",
      " block2_pool (MaxPooling2D)  (None, 56, 56, 128)       0         \n",
      "                                                                 \n",
      " block3_conv1 (Conv2D)       (None, 56, 56, 256)       295168    \n",
      "                                                                 \n",
      " block3_conv2 (Conv2D)       (None, 56, 56, 256)       590080    \n",
      "                                                                 \n",
      " block3_conv3 (Conv2D)       (None, 56, 56, 256)       590080    \n",
      "                                                                 \n",
      " block3_pool (MaxPooling2D)  (None, 28, 28, 256)       0         \n",
      "                                                                 \n",
      " block4_conv1 (Conv2D)       (None, 28, 28, 512)       1180160   \n",
      "                                                                 \n",
      " block4_conv2 (Conv2D)       (None, 28, 28, 512)       2359808   \n",
      "                                                                 \n",
      " block4_conv3 (Conv2D)       (None, 28, 28, 512)       2359808   \n",
      "                                                                 \n",
      " block4_pool (MaxPooling2D)  (None, 14, 14, 512)       0         \n",
      "                                                                 \n",
      " block5_conv1 (Conv2D)       (None, 14, 14, 512)       2359808   \n",
      "                                                                 \n",
      " block5_conv2 (Conv2D)       (None, 14, 14, 512)       2359808   \n",
      "                                                                 \n",
      " block5_conv3 (Conv2D)       (None, 14, 14, 512)       2359808   \n",
      "                                                                 \n",
      " block5_pool (MaxPooling2D)  (None, 7, 7, 512)         0         \n",
      "                                                                 \n",
      "=================================================================\n",
      "Total params: 14,714,688\n",
      "Trainable params: 0\n",
      "Non-trainable params: 14,714,688\n",
      "_________________________________________________________________\n"
     ]
    }
   ],
   "source": [
    "vgg16_model.summary()"
   ]
  },
  {
   "cell_type": "code",
   "execution_count": 36,
   "metadata": {
    "id": "B0cmWrbs7STe"
   },
   "outputs": [],
   "source": [
    "# Reference: https://keras.io/api/layers/reshaping_layers/flatten/\n",
    "# Reference: https://keras.io/api/layers/core_layers/dense/\n",
    "# Reference: https://keras.io/api/layers/normalization_layers/batch_normalization/\n",
    "# Reference: https://keras.io/api/layers/regularization_layers/dropout/\n",
    "\n",
    "# Flatten Layer\n",
    "flatten = Flatten()(vgg16_model.output)\n",
    "\n",
    "# Dense Layer\n",
    "Dense1 = Dense(256, activation=\"relu\")(flatten)\n",
    "\n",
    "# Batch Normalization\n",
    "BatchNormalization = BatchNormalization()(Dense1)\n",
    "\n",
    "# Dropout Layer\n",
    "dropout = Dropout(rate=0.5)(BatchNormalization)\n",
    "\n",
    "# Dense Layer\n",
    "Dense2 = Dense(128, activation=\"relu\")(dropout)\n",
    "\n",
    "# Dropout Layer\n",
    "dropout = Dropout(rate=0.5)(Dense2)\n",
    "\n",
    "# Dense Layer\n",
    "Dense3 = Dense(16, activation=\"relu\")(dropout)\n",
    "\n",
    "# Dense Layer\n",
    "Output_Layer = Dense(4, activation=\"softmax\")(Dense3)\n",
    "\n",
    "# Creating a model\n",
    "model3 = Model(inputs=vgg16_model.input,outputs=Output_Layer)"
   ]
  },
  {
   "cell_type": "code",
   "execution_count": 37,
   "metadata": {
    "colab": {
     "base_uri": "https://localhost:8080/"
    },
    "id": "KTTAwgxS7SWd",
    "outputId": "eaa889e5-6769-4c8b-fda2-9bc662439740"
   },
   "outputs": [
    {
     "name": "stdout",
     "output_type": "stream",
     "text": [
      "Model: \"model\"\n",
      "_________________________________________________________________\n",
      " Layer (type)                Output Shape              Param #   \n",
      "=================================================================\n",
      " input_1 (InputLayer)        [(None, 224, 224, 3)]     0         \n",
      "                                                                 \n",
      " block1_conv1 (Conv2D)       (None, 224, 224, 64)      1792      \n",
      "                                                                 \n",
      " block1_conv2 (Conv2D)       (None, 224, 224, 64)      36928     \n",
      "                                                                 \n",
      " block1_pool (MaxPooling2D)  (None, 112, 112, 64)      0         \n",
      "                                                                 \n",
      " block2_conv1 (Conv2D)       (None, 112, 112, 128)     73856     \n",
      "                                                                 \n",
      " block2_conv2 (Conv2D)       (None, 112, 112, 128)     147584    \n",
      "                                                                 \n",
      " block2_pool (MaxPooling2D)  (None, 56, 56, 128)       0         \n",
      "                                                                 \n",
      " block3_conv1 (Conv2D)       (None, 56, 56, 256)       295168    \n",
      "                                                                 \n",
      " block3_conv2 (Conv2D)       (None, 56, 56, 256)       590080    \n",
      "                                                                 \n",
      " block3_conv3 (Conv2D)       (None, 56, 56, 256)       590080    \n",
      "                                                                 \n",
      " block3_pool (MaxPooling2D)  (None, 28, 28, 256)       0         \n",
      "                                                                 \n",
      " block4_conv1 (Conv2D)       (None, 28, 28, 512)       1180160   \n",
      "                                                                 \n",
      " block4_conv2 (Conv2D)       (None, 28, 28, 512)       2359808   \n",
      "                                                                 \n",
      " block4_conv3 (Conv2D)       (None, 28, 28, 512)       2359808   \n",
      "                                                                 \n",
      " block4_pool (MaxPooling2D)  (None, 14, 14, 512)       0         \n",
      "                                                                 \n",
      " block5_conv1 (Conv2D)       (None, 14, 14, 512)       2359808   \n",
      "                                                                 \n",
      " block5_conv2 (Conv2D)       (None, 14, 14, 512)       2359808   \n",
      "                                                                 \n",
      " block5_conv3 (Conv2D)       (None, 14, 14, 512)       2359808   \n",
      "                                                                 \n",
      " block5_pool (MaxPooling2D)  (None, 7, 7, 512)         0         \n",
      "                                                                 \n",
      " flatten (Flatten)           (None, 25088)             0         \n",
      "                                                                 \n",
      " dense (Dense)               (None, 256)               6422784   \n",
      "                                                                 \n",
      " batch_normalization (BatchN  (None, 256)              1024      \n",
      " ormalization)                                                   \n",
      "                                                                 \n",
      " dropout (Dropout)           (None, 256)               0         \n",
      "                                                                 \n",
      " dense_1 (Dense)             (None, 128)               32896     \n",
      "                                                                 \n",
      " dropout_1 (Dropout)         (None, 128)               0         \n",
      "                                                                 \n",
      " dense_2 (Dense)             (None, 16)                2064      \n",
      "                                                                 \n",
      " dense_3 (Dense)             (None, 4)                 68        \n",
      "                                                                 \n",
      "=================================================================\n",
      "Total params: 21,173,524\n",
      "Trainable params: 6,458,324\n",
      "Non-trainable params: 14,715,200\n",
      "_________________________________________________________________\n"
     ]
    }
   ],
   "source": [
    "model3.summary()"
   ]
  },
  {
   "cell_type": "code",
   "execution_count": 38,
   "metadata": {
    "colab": {
     "base_uri": "https://localhost:8080/"
    },
    "id": "cU89aRBWv0zB",
    "outputId": "8eef283b-189c-4eaa-a99e-8c4f1da2d41c"
   },
   "outputs": [
    {
     "name": "stdout",
     "output_type": "stream",
     "text": [
      "Epoch 1/50\n",
      "521/521 [==============================] - ETA: 0s - loss: 0.5700 - accuracy: 0.7921\n",
      "Epoch 1: val_accuracy improved from -inf to 0.86033, saving model to model2_with_augmentation_save/weights-01-0.8603.hdf5\n",
      "521/521 [==============================] - 1253s 2s/step - loss: 0.5700 - accuracy: 0.7921 - val_loss: 0.3984 - val_accuracy: 0.8603\n",
      "Epoch 2/50\n",
      "521/521 [==============================] - ETA: 0s - loss: 0.4038 - accuracy: 0.8565\n",
      "Epoch 2: val_accuracy improved from 0.86033 to 0.88961, saving model to model2_with_augmentation_save/weights-02-0.8896.hdf5\n",
      "521/521 [==============================] - 1149s 2s/step - loss: 0.4038 - accuracy: 0.8565 - val_loss: 0.3160 - val_accuracy: 0.8896\n",
      "Epoch 3/50\n",
      "521/521 [==============================] - ETA: 0s - loss: 0.3623 - accuracy: 0.8713\n",
      "Epoch 3: val_accuracy improved from 0.88961 to 0.89423, saving model to model2_with_augmentation_save/weights-03-0.8942.hdf5\n",
      "521/521 [==============================] - 1142s 2s/step - loss: 0.3623 - accuracy: 0.8713 - val_loss: 0.3002 - val_accuracy: 0.8942\n",
      "Epoch 4/50\n",
      "521/521 [==============================] - ETA: 0s - loss: 0.3410 - accuracy: 0.8785\n",
      "Epoch 4: val_accuracy did not improve from 0.89423\n",
      "521/521 [==============================] - 1142s 2s/step - loss: 0.3410 - accuracy: 0.8785 - val_loss: 0.3813 - val_accuracy: 0.8627\n",
      "Epoch 5/50\n",
      "521/521 [==============================] - ETA: 0s - loss: 0.3280 - accuracy: 0.8830\n",
      "Epoch 5: val_accuracy did not improve from 0.89423\n",
      "521/521 [==============================] - 1151s 2s/step - loss: 0.3280 - accuracy: 0.8830 - val_loss: 0.3247 - val_accuracy: 0.8797\n",
      "Epoch 6/50\n",
      "521/521 [==============================] - ETA: 0s - loss: 0.3171 - accuracy: 0.8878\n",
      "Epoch 6: val_accuracy improved from 0.89423 to 0.89512, saving model to model2_with_augmentation_save/weights-06-0.8951.hdf5\n",
      "521/521 [==============================] - 1147s 2s/step - loss: 0.3171 - accuracy: 0.8878 - val_loss: 0.2992 - val_accuracy: 0.8951\n",
      "Epoch 7/50\n",
      "521/521 [==============================] - ETA: 0s - loss: 0.3131 - accuracy: 0.8887\n",
      "Epoch 7: val_accuracy did not improve from 0.89512\n",
      "521/521 [==============================] - 1132s 2s/step - loss: 0.3131 - accuracy: 0.8887 - val_loss: 0.3725 - val_accuracy: 0.8724\n",
      "Epoch 8/50\n",
      "521/521 [==============================] - ETA: 0s - loss: 0.3040 - accuracy: 0.8918\n",
      "Epoch 8: val_accuracy did not improve from 0.89512\n",
      "521/521 [==============================] - 1144s 2s/step - loss: 0.3040 - accuracy: 0.8918 - val_loss: 0.3475 - val_accuracy: 0.8751\n",
      "Epoch 9/50\n",
      "521/521 [==============================] - ETA: 0s - loss: 0.2979 - accuracy: 0.8941\n",
      "Epoch 9: val_accuracy did not improve from 0.89512\n",
      "521/521 [==============================] - 1154s 2s/step - loss: 0.2979 - accuracy: 0.8941 - val_loss: 0.3004 - val_accuracy: 0.8931\n",
      "Epoch 10/50\n",
      "521/521 [==============================] - ETA: 0s - loss: 0.2937 - accuracy: 0.8965\n",
      "Epoch 10: val_accuracy did not improve from 0.89512\n",
      "521/521 [==============================] - 1146s 2s/step - loss: 0.2937 - accuracy: 0.8965 - val_loss: 0.3280 - val_accuracy: 0.8858\n",
      "Epoch 11/50\n",
      "521/521 [==============================] - ETA: 0s - loss: 0.2921 - accuracy: 0.8979\n",
      "Epoch 11: val_accuracy did not improve from 0.89512\n",
      "521/521 [==============================] - 1144s 2s/step - loss: 0.2921 - accuracy: 0.8979 - val_loss: 0.2904 - val_accuracy: 0.8942\n",
      "Epoch 11: early stopping\n"
     ]
    },
    {
     "data": {
      "text/plain": [
       "<keras.callbacks.History at 0x7f7cdd080ad0>"
      ]
     },
     "execution_count": 38,
     "metadata": {},
     "output_type": "execute_result"
    }
   ],
   "source": [
    "earlystop = EarlyStopping(monitor='val_accuracy', min_delta=0, patience=5, verbose=1)\n",
    "\n",
    "# Creating model3_with_augmentation_save folder before running the code.\n",
    "filepath=\"model3_with_augmentation_save/weights-{epoch:02d}-{val_accuracy:.4f}.hdf5\"\n",
    "checkpoint = ModelCheckpoint(filepath=filepath, monitor='val_accuracy',verbose=1, save_best_only=True, mode='max')\n",
    "\n",
    "# Callbacks\n",
    "optimizer = tf.keras.optimizers.Adam()\n",
    "model3.compile(optimizer=optimizer,loss=\"categorical_crossentropy\",metrics=[\"accuracy\"])\n",
    "\n",
    "# Creating a list with all the callbacks we want\n",
    "callback_list = [earlystop, checkpoint]\n",
    "\n",
    "train_samples = 66788\n",
    "validation_samples = 16696\n",
    "batch_size = 128\n",
    "model3.fit(train_generator, validation_data= validation_generator, steps_per_epoch=train_samples//batch_size, callbacks=callback_list, epochs=50)"
   ]
  },
  {
   "cell_type": "code",
   "execution_count": 39,
   "metadata": {
    "colab": {
     "base_uri": "https://localhost:8080/",
     "height": 231
    },
    "id": "FD9Bd4bH7ScN",
    "outputId": "7cc73866-26df-4ecb-956f-7f618b8f34ce"
   },
   "outputs": [
    {
     "data": {
      "image/png": "[encoded data removed]",
      "text/plain": [
       "<Figure size 2160x360 with 2 Axes>"
      ]
     },
     "metadata": {
      "needs_background": "light"
     },
     "output_type": "display_data"
    }
   ],
   "source": [
    "# Plot training & validation acc values\n",
    "plt.figure(figsize=(30, 5))\n",
    "plt.subplot(121)\n",
    "plt.plot(model3.history.history['accuracy'])\n",
    "plt.plot(model3.history.history['val_accuracy'])\n",
    "plt.title('Model Accuracy')\n",
    "plt.ylabel('Accuracy')\n",
    "plt.xlabel('Epoch')\n",
    "plt.legend(['Train', 'Test'], loc='upper left')\n",
    "\n",
    "# Plot training & validation loss values\n",
    "plt.subplot(122)\n",
    "plt.plot(model3.history.history['loss'])\n",
    "plt.plot(model3.history.history['val_loss'])\n",
    "plt.title('Model loss')\n",
    "plt.ylabel('Loss')\n",
    "plt.xlabel('Epoch')\n",
    "plt.legend(['Train', 'Test'], loc='upper left')\n",
    "plt.show()"
   ]
  },
  {
   "cell_type": "code",
   "execution_count": 40,
   "metadata": {
    "colab": {
     "base_uri": "https://localhost:8080/"
    },
    "id": "4b0UPNxUBx66",
    "outputId": "8b2297bd-8ecf-4501-d5b4-e71f07880f2a"
   },
   "outputs": [
    {
     "name": "stdout",
     "output_type": "stream",
     "text": [
      "Found 968 images belonging to 4 classes.\n",
      "8/8 [==============================] - 14s 2s/step - loss: 0.1956 - accuracy: 0.9287\n",
      "Accuracy on Test Dataset:92.87189841270447, Loss on Test Dataset: 0.19564618170261383\n"
     ]
    }
   ],
   "source": [
    "# Accuracy on test dataset\n",
    "\n",
    "test_generator = datagen.flow_from_directory(\n",
    "    \"/content/OCT2017 /test\",\n",
    "    target_size = (224, 224),\n",
    "    batch_size=128,\n",
    "    class_mode = \"categorical\",\n",
    "    shuffle = False)\n",
    "test_samples = 968\n",
    "batch_size = 128\n",
    "\n",
    "result = model3.evaluate(test_generator, steps = test_samples // batch_size+1, verbose = 1)\n",
    "print(\"Accuracy on Test Dataset:{0}, Loss on Test Dataset: {1}\".format(result[1]*100,result[0]))"
   ]
  },
  {
   "cell_type": "code",
   "execution_count": 41,
   "metadata": {
    "colab": {
     "base_uri": "https://localhost:8080/",
     "height": 295
    },
    "id": "VY-mqqNbAhtz",
    "outputId": "65ae74e2-3c25-4335-f62e-85ab25b129f4"
   },
   "outputs": [
    {
     "data": {
      "image/png": "[encoded data removed]",
      "text/plain": [
       "<Figure size 432x288 with 2 Axes>"
      ]
     },
     "metadata": {
      "needs_background": "light"
     },
     "output_type": "display_data"
    }
   ],
   "source": [
    "# Plot Confusion Matrix\n",
    "\n",
    "# predicted values\n",
    "y_pred = model3.predict(test_generator, test_samples // batch_size+1)\n",
    "predicted_values = np.argmax(y_pred, axis=1)\n",
    "\n",
    "confusionmatrix = confusion_matrix(test_generator.classes,predicted_values)\n",
    "plt.title(\"VGG16 Transfer Learning with Image Augmentation\")\n",
    "sns.heatmap(confusionmatrix, annot=True, cmap=\"YlGnBu\")\n",
    "plt.xlabel('Predicted Values')\n",
    "plt.ylabel('Actual Values')\n",
    "plt.show()"
   ]
  },
  {
   "cell_type": "markdown",
   "metadata": {
    "id": "-ayh0Db9SKlG"
   },
   "source": [
    "**Observations**\n",
    "\n",
    "We are getting an accuracy of 0.92 on the test dataset using VGG16 Transfer Learning with Image Augmentation."
   ]
  },
  {
   "cell_type": "code",
   "execution_count": null,
   "metadata": {
    "id": "uNm7-2o9AsAQ"
   },
   "outputs": [],
   "source": []
  }
 ],
 "metadata": {
  "accelerator": "GPU",
  "colab": {
   "collapsed_sections": [],
   "machine_shape": "hm",
   "name": "04 VGG16 Transfer Learning with Image Augmentation.ipynb",
   "provenance": []
  },
  "kernelspec": {
   "display_name": "Python 3",
   "language": "python",
   "name": "python3"
  },
  "language_info": {
   "codemirror_mode": {
    "name": "ipython",
    "version": 3
   },
   "file_extension": ".py",
   "mimetype": "text/x-python",
   "name": "python",
   "nbconvert_exporter": "python",
   "pygments_lexer": "ipython3",
   "version": "3.8.8"
  }
 },
 "nbformat": 4,
 "nbformat_minor": 1
}
