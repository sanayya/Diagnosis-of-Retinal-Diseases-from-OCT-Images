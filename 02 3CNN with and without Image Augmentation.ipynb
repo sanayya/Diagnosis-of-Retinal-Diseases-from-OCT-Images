{
 "cells": [
  {
   "cell_type": "markdown",
   "metadata": {
    "id": "TfWEgbPgblp3"
   },
   "source": [
    "## Import relevant libraries "
   ]
  },
  {
   "cell_type": "code",
   "execution_count": 5,
   "metadata": {
    "id": "Io5NCIV7bkl3"
   },
   "outputs": [],
   "source": [
    "import warnings\n",
    "warnings.filterwarnings(\"ignore\")\n",
    "import os\n",
    "from keras.preprocessing.image import ImageDataGenerator\n",
    "import tensorflow as tf\n",
    "from tensorflow.keras.layers import Input, Conv2D, BatchNormalization, MaxPooling2D, Dropout, GlobalAveragePooling2D, Dense\n",
    "from tensorflow.keras.models import Model\n",
    "from tensorflow.keras.callbacks import EarlyStopping, ModelCheckpoint, ReduceLROnPlateau\n",
    "import matplotlib.pyplot as plt\n",
    "from sklearn.metrics import confusion_matrix\n",
    "import numpy as np\n",
    "import seaborn as sns"
   ]
  },
  {
   "cell_type": "markdown",
   "metadata": {
    "id": "v-gCzJbHWrZG"
   },
   "source": [
    "## Apply CNN Model with 3 layers without image augmentation"
   ]
  },
  {
   "cell_type": "code",
   "execution_count": 6,
   "metadata": {
    "colab": {
     "base_uri": "https://localhost:8080/"
    },
    "id": "mKpAZk6AWq5k",
    "outputId": "a65397d0-8941-42d5-8e07-cc90bc710d3c"
   },
   "outputs": [
    {
     "name": "stdout",
     "output_type": "stream",
     "text": [
      "Found 66788 images belonging to 4 classes.\n",
      "Found 16696 images belonging to 4 classes.\n"
     ]
    }
   ],
   "source": [
    "# Reference: https://www.tensorflow.org/api_docs/python/tf/keras/preprocessing/image/ImageDataGenerator \n",
    "# Reference: https://stackoverflow.com/questions/53037510/can-flow-from-directory-get-train-and-validation-data-from-the-same-directory-in\n",
    "# generate batches of tensor image data with real-time data augmentation\n",
    "\n",
    "datagen = ImageDataGenerator(validation_split=0.2)\n",
    "\n",
    "train_generator = datagen.flow_from_directory(\n",
    "    \"/content/OCT2017 /train\",\n",
    "    target_size = (224, 224),\n",
    "    batch_size=128,\n",
    "    class_mode = \"categorical\",\n",
    "    subset = \"training\")\n",
    "\n",
    "validation_generator = datagen.flow_from_directory(\n",
    "    \"/content/OCT2017 /train\",\n",
    "    target_size = (224, 224),\n",
    "    batch_size=128,\n",
    "    class_mode = \"categorical\",\n",
    "    subset = \"validation\")"
   ]
  },
  {
   "cell_type": "code",
   "execution_count": 7,
   "metadata": {
    "id": "Q31UKQ4okHtL"
   },
   "outputs": [],
   "source": [
    "tf.keras.backend.clear_session()"
   ]
  },
  {
   "cell_type": "code",
   "execution_count": null,
   "metadata": {
    "id": "dfFqqrx-lpol"
   },
   "outputs": [],
   "source": [
    "# Reference: https://keras.io/api/layers/convolution_layers/convolution2d/\n",
    "# Reference: https://keras.io/api/layers/normalization_layers/batch_normalization/\n",
    "# Reference: https://keras.io/api/layers/pooling_layers/max_pooling2d/\n",
    "# Reference: https://keras.io/api/layers/regularization_layers/dropout/\n",
    "# Reference: https://keras.io/api/layers/pooling_layers/global_average_pooling2d/\n",
    "# Reference: https://keras.io/api/layers/core_layers/dense/\n",
    "\n",
    "# Model 1\n",
    "\n",
    "input_shape = (224,224,3)\n",
    "\n",
    "# Input Layer\n",
    "Input_Layer = Input(shape=(input_shape))\n",
    "\n",
    "# Convolutional Layer\n",
    "First_Conv2D = Conv2D(32, kernel_size = (3, 3), activation=\"relu\",padding = 'same')(Input_Layer)\n",
    "# Batch Normalization\n",
    "First_BatchNormalization = BatchNormalization()(First_Conv2D)\n",
    "\n",
    "# Convolutional Layer\n",
    "Second_Conv2D = Conv2D(64, kernel_size = (3, 3), activation=\"relu\",padding = 'same')(First_BatchNormalization)\n",
    "# Batch Normalization\n",
    "Second_BatchNormalization = BatchNormalization()(Second_Conv2D)\n",
    "\n",
    "# MaxPool Layer\n",
    "maxpool = MaxPooling2D(pool_size=(2,2))(Second_BatchNormalization)\n",
    "# Dropout Layer\n",
    "dropout = Dropout(rate=0.2)(maxpool)\n",
    "\n",
    "# Convolutional Layer\n",
    "Third_Conv2D = Conv2D(64, kernel_size = (3, 3), activation=\"relu\",padding = 'same')(dropout)\n",
    "# Batch Normalization\n",
    "Third_BatchNormalization = BatchNormalization()(Third_Conv2D)\n",
    "\n",
    "# GlobalAveragePooling Layer\n",
    "global_average_pool = GlobalAveragePooling2D()(Third_BatchNormalization)\n",
    "\n",
    "# Dense Layer\n",
    "Output_Layer = Dense(4, activation=\"softmax\")(global_average_pool)\n",
    "\n",
    "# Creating a model\n",
    "model1 = Model(inputs=Input_Layer,outputs=Output_Layer)"
   ]
  },
  {
   "cell_type": "code",
   "execution_count": null,
   "metadata": {
    "colab": {
     "base_uri": "https://localhost:8080/"
    },
    "id": "8hdiFZwwrrxy",
    "outputId": "2b49fcd1-6d53-49d6-dd76-f2bb29e310d4"
   },
   "outputs": [
    {
     "name": "stdout",
     "output_type": "stream",
     "text": [
      "Model: \"model\"\n",
      "_________________________________________________________________\n",
      " Layer (type)                Output Shape              Param #   \n",
      "=================================================================\n",
      " input_1 (InputLayer)        [(None, 224, 224, 3)]     0         \n",
      "                                                                 \n",
      " conv2d (Conv2D)             (None, 224, 224, 32)      896       \n",
      "                                                                 \n",
      " batch_normalization (BatchN  (None, 224, 224, 32)     128       \n",
      " ormalization)                                                   \n",
      "                                                                 \n",
      " conv2d_1 (Conv2D)           (None, 224, 224, 64)      18496     \n",
      "                                                                 \n",
      " batch_normalization_1 (Batc  (None, 224, 224, 64)     256       \n",
      " hNormalization)                                                 \n",
      "                                                                 \n",
      " max_pooling2d (MaxPooling2D  (None, 112, 112, 64)     0         \n",
      " )                                                               \n",
      "                                                                 \n",
      " dropout (Dropout)           (None, 112, 112, 64)      0         \n",
      "                                                                 \n",
      " conv2d_2 (Conv2D)           (None, 112, 112, 64)      36928     \n",
      "                                                                 \n",
      " batch_normalization_2 (Batc  (None, 112, 112, 64)     256       \n",
      " hNormalization)                                                 \n",
      "                                                                 \n",
      " global_average_pooling2d (G  (None, 64)               0         \n",
      " lobalAveragePooling2D)                                          \n",
      "                                                                 \n",
      " dense (Dense)               (None, 4)                 260       \n",
      "                                                                 \n",
      "=================================================================\n",
      "Total params: 57,220\n",
      "Trainable params: 56,900\n",
      "Non-trainable params: 320\n",
      "_________________________________________________________________\n"
     ]
    }
   ],
   "source": [
    "model1.summary()"
   ]
  },
  {
   "cell_type": "code",
   "execution_count": null,
   "metadata": {
    "colab": {
     "base_uri": "https://localhost:8080/"
    },
    "id": "C-NnjJGurtP5",
    "outputId": "37e340e7-627f-407b-8af0-69dc819bd33c"
   },
   "outputs": [
    {
     "name": "stdout",
     "output_type": "stream",
     "text": [
      "Epoch 1/50\n",
      "521/521 [==============================] - ETA: 0s - loss: 0.7812 - accuracy: 0.7107\n",
      "Epoch 1: val_accuracy improved from -inf to 0.73437, saving model to model1_without_augmentation_save/weights-01-0.7344.hdf5\n",
      "521/521 [==============================] - 415s 765ms/step - loss: 0.7812 - accuracy: 0.7107 - val_loss: 0.6906 - val_accuracy: 0.7344\n",
      "Epoch 2/50\n",
      "521/521 [==============================] - ETA: 0s - loss: 0.5411 - accuracy: 0.8030\n",
      "Epoch 2: val_accuracy did not improve from 0.73437\n",
      "521/521 [==============================] - 361s 693ms/step - loss: 0.5411 - accuracy: 0.8030 - val_loss: 0.7335 - val_accuracy: 0.7133\n",
      "Epoch 3/50\n",
      "521/521 [==============================] - ETA: 0s - loss: 0.4148 - accuracy: 0.8522\n",
      "Epoch 3: val_accuracy improved from 0.73437 to 0.77611, saving model to model1_without_augmentation_save/weights-03-0.7761.hdf5\n",
      "521/521 [==============================] - 361s 691ms/step - loss: 0.4148 - accuracy: 0.8522 - val_loss: 0.5863 - val_accuracy: 0.7761\n",
      "Epoch 4/50\n",
      "521/521 [==============================] - ETA: 0s - loss: 0.3320 - accuracy: 0.8844\n",
      "Epoch 4: val_accuracy improved from 0.77611 to 0.77857, saving model to model1_without_augmentation_save/weights-04-0.7786.hdf5\n",
      "521/521 [==============================] - 360s 690ms/step - loss: 0.3320 - accuracy: 0.8844 - val_loss: 0.5441 - val_accuracy: 0.7786\n",
      "Epoch 5/50\n",
      "521/521 [==============================] - ETA: 0s - loss: 0.2967 - accuracy: 0.8969\n",
      "Epoch 5: val_accuracy did not improve from 0.77857\n",
      "521/521 [==============================] - 360s 690ms/step - loss: 0.2967 - accuracy: 0.8969 - val_loss: 0.8933 - val_accuracy: 0.6934\n",
      "Epoch 6/50\n",
      "521/521 [==============================] - ETA: 0s - loss: 0.2672 - accuracy: 0.9068\n",
      "Epoch 6: val_accuracy improved from 0.77857 to 0.85913, saving model to model1_without_augmentation_save/weights-06-0.8591.hdf5\n",
      "521/521 [==============================] - 361s 693ms/step - loss: 0.2672 - accuracy: 0.9068 - val_loss: 0.4236 - val_accuracy: 0.8591\n",
      "Epoch 7/50\n",
      "521/521 [==============================] - ETA: 0s - loss: 0.2511 - accuracy: 0.9121\n",
      "Epoch 7: val_accuracy improved from 0.85913 to 0.88584, saving model to model1_without_augmentation_save/weights-07-0.8858.hdf5\n",
      "521/521 [==============================] - 362s 695ms/step - loss: 0.2511 - accuracy: 0.9121 - val_loss: 0.3252 - val_accuracy: 0.8858\n",
      "Epoch 8/50\n",
      "521/521 [==============================] - ETA: 0s - loss: 0.2373 - accuracy: 0.9169\n",
      "Epoch 8: val_accuracy did not improve from 0.88584\n",
      "521/521 [==============================] - 363s 696ms/step - loss: 0.2373 - accuracy: 0.9169 - val_loss: 0.3516 - val_accuracy: 0.8760\n",
      "Epoch 9/50\n",
      "521/521 [==============================] - ETA: 0s - loss: 0.2284 - accuracy: 0.9209\n",
      "Epoch 9: val_accuracy did not improve from 0.88584\n",
      "521/521 [==============================] - 363s 696ms/step - loss: 0.2284 - accuracy: 0.9209 - val_loss: 0.4267 - val_accuracy: 0.8513\n",
      "Epoch 10/50\n",
      "521/521 [==============================] - ETA: 0s - loss: 0.2179 - accuracy: 0.9236\n",
      "Epoch 10: val_accuracy improved from 0.88584 to 0.91351, saving model to model1_without_augmentation_save/weights-10-0.9135.hdf5\n",
      "521/521 [==============================] - 363s 697ms/step - loss: 0.2179 - accuracy: 0.9236 - val_loss: 0.2453 - val_accuracy: 0.9135\n",
      "Epoch 11/50\n",
      "521/521 [==============================] - ETA: 0s - loss: 0.2108 - accuracy: 0.9260\n",
      "Epoch 11: val_accuracy did not improve from 0.91351\n",
      "521/521 [==============================] - 363s 696ms/step - loss: 0.2108 - accuracy: 0.9260 - val_loss: 0.3433 - val_accuracy: 0.8782\n",
      "Epoch 12/50\n",
      "521/521 [==============================] - ETA: 0s - loss: 0.2048 - accuracy: 0.9285\n",
      "Epoch 12: val_accuracy did not improve from 0.91351\n",
      "521/521 [==============================] - 362s 695ms/step - loss: 0.2048 - accuracy: 0.9285 - val_loss: 0.2929 - val_accuracy: 0.8918\n",
      "Epoch 13/50\n",
      "521/521 [==============================] - ETA: 0s - loss: 0.2013 - accuracy: 0.9285\n",
      "Epoch 13: val_accuracy did not improve from 0.91351\n",
      "521/521 [==============================] - 362s 694ms/step - loss: 0.2013 - accuracy: 0.9285 - val_loss: 0.3451 - val_accuracy: 0.8723\n",
      "Epoch 14/50\n",
      "521/521 [==============================] - ETA: 0s - loss: 0.1940 - accuracy: 0.9317\n",
      "Epoch 14: val_accuracy did not improve from 0.91351\n",
      "521/521 [==============================] - 362s 693ms/step - loss: 0.1940 - accuracy: 0.9317 - val_loss: 0.2547 - val_accuracy: 0.9113\n",
      "Epoch 15/50\n",
      "521/521 [==============================] - ETA: 0s - loss: 0.1909 - accuracy: 0.9338\n",
      "Epoch 15: val_accuracy did not improve from 0.91351\n",
      "521/521 [==============================] - 362s 694ms/step - loss: 0.1909 - accuracy: 0.9338 - val_loss: 0.3296 - val_accuracy: 0.8899\n",
      "Epoch 15: early stopping\n"
     ]
    },
    {
     "data": {
      "text/plain": [
       "<keras.callbacks.History at 0x7f4247ce9690>"
      ]
     },
     "execution_count": 10,
     "metadata": {},
     "output_type": "execute_result"
    }
   ],
   "source": [
    "earlystop = EarlyStopping(monitor='val_accuracy', min_delta=0, patience=5, verbose=1)\n",
    "\n",
    "# Creating model1_without_augmentation_save folder before running the code.\n",
    "filepath=\"model1_without_augmentation_save/weights-{epoch:02d}-{val_accuracy:.4f}.hdf5\"\n",
    "checkpoint = ModelCheckpoint(filepath=filepath, monitor='val_accuracy',verbose=1, save_best_only=True, mode='max')\n",
    "\n",
    "# Callbacks\n",
    "optimizer = tf.keras.optimizers.Adam()\n",
    "model1.compile(optimizer=optimizer,loss=\"categorical_crossentropy\",metrics=[\"accuracy\"])\n",
    "\n",
    "# Creating a list with all the callbacks we want\n",
    "callback_list = [earlystop, checkpoint]\n",
    "\n",
    "train_samples = 66788\n",
    "validation_samples = 16696\n",
    "batch_size = 128\n",
    "model1.fit(train_generator, validation_data= validation_generator, steps_per_epoch=train_samples//batch_size, callbacks=callback_list, epochs=50)"
   ]
  },
  {
   "cell_type": "code",
   "execution_count": null,
   "metadata": {
    "colab": {
     "base_uri": "https://localhost:8080/",
     "height": 289
    },
    "id": "D3o3Oiw05Go4",
    "outputId": "0e8b1ee4-22cf-46db-c0e1-9f5bb121ca6b"
   },
   "outputs": [
    {
     "data": {
      "image/png": "[encoded data removed]",
      "text/plain": [
       "<Figure size 2160x360 with 2 Axes>"
      ]
     },
     "metadata": {
      "needs_background": "light"
     },
     "output_type": "display_data"
    }
   ],
   "source": [
    "# Plot training & validation acc values\n",
    "plt.figure(figsize=(30, 5))\n",
    "plt.subplot(121)\n",
    "plt.plot(model1.history.history['accuracy'])\n",
    "plt.plot(model1.history.history['val_accuracy'])\n",
    "plt.title('Model Accuracy')\n",
    "plt.ylabel('Accuracy')\n",
    "plt.xlabel('Epoch')\n",
    "plt.legend(['Train', 'Test'], loc='upper left')\n",
    "\n",
    "# Plot training & validation loss values\n",
    "plt.subplot(122)\n",
    "plt.plot(model1.history.history['loss'])\n",
    "plt.plot(model1.history.history['val_loss'])\n",
    "plt.title('Model loss')\n",
    "plt.ylabel('Loss')\n",
    "plt.xlabel('Epoch')\n",
    "plt.legend(['Train', 'Test'], loc='upper left')\n",
    "plt.show()"
   ]
  },
  {
   "cell_type": "code",
   "execution_count": 11,
   "metadata": {
    "colab": {
     "base_uri": "https://localhost:8080/"
    },
    "id": "xZ9_6n-hKT-O",
    "outputId": "dd366fcd-3bef-46db-b8c5-dcc509752f6f"
   },
   "outputs": [
    {
     "name": "stdout",
     "output_type": "stream",
     "text": [
      "Found 968 images belonging to 4 classes.\n",
      "8/8 [==============================] - 4s 530ms/step - loss: 0.2915 - accuracy: 0.8833\n",
      "Accuracy on Test Dataset:88.32644820213318, Loss on Test Dataset: 0.2914683222770691\n"
     ]
    }
   ],
   "source": [
    "# Accuracy on test dataset\n",
    "\n",
    "test_generator = datagen.flow_from_directory(\n",
    "    \"/content/OCT2017 /test\",\n",
    "    target_size = (224, 224),\n",
    "    batch_size=128,\n",
    "    class_mode = \"categorical\",\n",
    "    shuffle = False)\n",
    "test_samples = 968\n",
    "batch_size = 128\n",
    "\n",
    "result = model1.evaluate(test_generator, steps = test_samples // batch_size+1, verbose = 1)\n",
    "print(\"Accuracy on Test Dataset:{0}, Loss on Test Dataset: {1}\".format(result[1]*100,result[0]))"
   ]
  },
  {
   "cell_type": "code",
   "execution_count": null,
   "metadata": {
    "colab": {
     "base_uri": "https://localhost:8080/",
     "height": 312
    },
    "id": "jjQOUqGACuxO",
    "outputId": "2c4e6148-27cc-4cb6-c939-a3e027ba806e"
   },
   "outputs": [
    {
     "name": "stdout",
     "output_type": "stream",
     "text": [
      "Found 968 images belonging to 4 classes.\n"
     ]
    },
    {
     "data": {
      "image/png": "[encoded data removed]",
      "text/plain": [
       "<Figure size 432x288 with 2 Axes>"
      ]
     },
     "metadata": {
      "needs_background": "light"
     },
     "output_type": "display_data"
    }
   ],
   "source": [
    "# Plot Confusion Matrix\n",
    "\n",
    "# predicted values\n",
    "y_pred = model1.predict(test_generator, test_samples // batch_size+1)\n",
    "predicted_values = np.argmax(y_pred, axis=1)\n",
    "\n",
    "confusionmatrix = confusion_matrix(test_generator.classes,predicted_values)\n",
    "plt.title(\"3 Layer CNN without Image Augmentation\")\n",
    "sns.heatmap(confusionmatrix, annot=True, cmap=\"YlGnBu\")\n",
    "plt.xlabel('Predicted Values')\n",
    "plt.ylabel('Actual Values')\n",
    "plt.show()"
   ]
  },
  {
   "cell_type": "markdown",
   "metadata": {
    "id": "9PnGQCT-Rrnn"
   },
   "source": [
    "**Observations**\n",
    "\n",
    "We are getting an accuracy of 0.88 on the test dataset using simple 3 Layers CNN model without Image Augmentation."
   ]
  },
  {
   "cell_type": "markdown",
   "metadata": {
    "id": "cxKEDCgz6z0K"
   },
   "source": [
    "## Apply CNN Model with 3 Layers with Image Augmentation"
   ]
  },
  {
   "cell_type": "code",
   "execution_count": 12,
   "metadata": {
    "colab": {
     "base_uri": "https://localhost:8080/"
    },
    "id": "8vw6FVrd6qjz",
    "outputId": "3f5175c1-da11-4265-ae2c-992ba6a106db"
   },
   "outputs": [
    {
     "name": "stdout",
     "output_type": "stream",
     "text": [
      "Found 66788 images belonging to 4 classes.\n",
      "Found 16696 images belonging to 4 classes.\n"
     ]
    }
   ],
   "source": [
    "# Reference: https://www.tensorflow.org/api_docs/python/tf/keras/preprocessing/image/ImageDataGenerator \n",
    "# Reference: https://stackoverflow.com/questions/53037510/can-flow-from-directory-get-train-and-validation-data-from-the-same-directory-in\n",
    "# Reference: https://www.w3schools.com/python/ref_func_next.asp\n",
    "\n",
    "# generate batches of tensor image data with real-time data augmentation\n",
    "\n",
    "datagen=ImageDataGenerator(rescale=1./255,\n",
    "        shear_range=0.2,\n",
    "        zoom_range=0.2,\n",
    "        horizontal_flip=True,\n",
    "        validation_split=0.2)\n",
    "\n",
    "train_generator = datagen.flow_from_directory(\n",
    "    \"/content/OCT2017 /train\",\n",
    "    target_size = (224, 224),\n",
    "    batch_size=128,\n",
    "    class_mode = \"categorical\",\n",
    "    subset=\"training\")\n",
    "\n",
    "validation_generator = datagen.flow_from_directory(\n",
    "    \"/content/OCT2017 /train\",\n",
    "    target_size = (224, 224),\n",
    "    batch_size=128,\n",
    "    class_mode = \"categorical\",\n",
    "    subset=\"validation\")"
   ]
  },
  {
   "cell_type": "code",
   "execution_count": 13,
   "metadata": {
    "id": "zHazHC097SNO"
   },
   "outputs": [],
   "source": [
    "tf.keras.backend.clear_session()"
   ]
  },
  {
   "cell_type": "code",
   "execution_count": null,
   "metadata": {
    "id": "B0cmWrbs7STe"
   },
   "outputs": [],
   "source": [
    "# Reference: https://keras.io/api/layers/convolution_layers/convolution2d/\n",
    "# Reference: https://keras.io/api/layers/normalization_layers/batch_normalization/\n",
    "# Reference: https://keras.io/api/layers/pooling_layers/max_pooling2d/\n",
    "# Reference: https://keras.io/api/layers/regularization_layers/dropout/\n",
    "# Reference: https://keras.io/api/layers/pooling_layers/global_average_pooling2d/\n",
    "# Reference: https://keras.io/api/layers/core_layers/dense/\n",
    "\n",
    "\n",
    "input_shape = (224,224,3)\n",
    "\n",
    "# Input Layer\n",
    "Input_Layer = Input(shape=(input_shape))\n",
    "\n",
    "# Convolutional Layer\n",
    "First_Conv2D = Conv2D(32, kernel_size = (3, 3), activation=\"relu\",padding = 'same')(Input_Layer)\n",
    "# Batch Normalization\n",
    "First_BatchNormalization = BatchNormalization()(First_Conv2D)\n",
    "\n",
    "# Convolutional Layer\n",
    "Second_Conv2D = Conv2D(64, kernel_size = (3, 3), activation=\"relu\",padding = 'same')(First_BatchNormalization)\n",
    "# Batch Normalization\n",
    "Second_BatchNormalization = BatchNormalization()(Second_Conv2D)\n",
    "\n",
    "# MaxPool Layer\n",
    "maxpool = MaxPooling2D(pool_size=(2,2))(Second_BatchNormalization)\n",
    "# Dropout Layer\n",
    "dropout = Dropout(rate=0.2)(maxpool)\n",
    "\n",
    "# Convolutional Layer\n",
    "Third_Conv2D = Conv2D(64, kernel_size = (3, 3), activation=\"relu\",padding = 'same')(dropout)\n",
    "# Batch Normalization\n",
    "Third_BatchNormalization = BatchNormalization()(Third_Conv2D)\n",
    "\n",
    "# GlobalAveragePooling Layer\n",
    "global_average_pool = GlobalAveragePooling2D()(Third_BatchNormalization)\n",
    "\n",
    "# Dense Layer\n",
    "Output_Layer = Dense(4, activation=\"softmax\")(global_average_pool)\n",
    "\n",
    "# Creating a model\n",
    "model1 = Model(inputs=Input_Layer,outputs=Output_Layer)"
   ]
  },
  {
   "cell_type": "code",
   "execution_count": null,
   "metadata": {
    "colab": {
     "base_uri": "https://localhost:8080/"
    },
    "id": "KTTAwgxS7SWd",
    "outputId": "45249233-92d8-4ae2-aa9e-9fd0af4159e1"
   },
   "outputs": [
    {
     "name": "stdout",
     "output_type": "stream",
     "text": [
      "Model: \"model\"\n",
      "_________________________________________________________________\n",
      " Layer (type)                Output Shape              Param #   \n",
      "=================================================================\n",
      " input_1 (InputLayer)        [(None, 224, 224, 3)]     0         \n",
      "                                                                 \n",
      " conv2d (Conv2D)             (None, 224, 224, 32)      896       \n",
      "                                                                 \n",
      " batch_normalization (BatchN  (None, 224, 224, 32)     128       \n",
      " ormalization)                                                   \n",
      "                                                                 \n",
      " conv2d_1 (Conv2D)           (None, 224, 224, 64)      18496     \n",
      "                                                                 \n",
      " batch_normalization_1 (Batc  (None, 224, 224, 64)     256       \n",
      " hNormalization)                                                 \n",
      "                                                                 \n",
      " max_pooling2d (MaxPooling2D  (None, 112, 112, 64)     0         \n",
      " )                                                               \n",
      "                                                                 \n",
      " dropout (Dropout)           (None, 112, 112, 64)      0         \n",
      "                                                                 \n",
      " conv2d_2 (Conv2D)           (None, 112, 112, 64)      36928     \n",
      "                                                                 \n",
      " batch_normalization_2 (Batc  (None, 112, 112, 64)     256       \n",
      " hNormalization)                                                 \n",
      "                                                                 \n",
      " global_average_pooling2d (G  (None, 64)               0         \n",
      " lobalAveragePooling2D)                                          \n",
      "                                                                 \n",
      " dense (Dense)               (None, 4)                 260       \n",
      "                                                                 \n",
      "=================================================================\n",
      "Total params: 57,220\n",
      "Trainable params: 56,900\n",
      "Non-trainable params: 320\n",
      "_________________________________________________________________\n"
     ]
    }
   ],
   "source": [
    "model1.summary()"
   ]
  },
  {
   "cell_type": "code",
   "execution_count": null,
   "metadata": {
    "colab": {
     "base_uri": "https://localhost:8080/"
    },
    "id": "cU89aRBWv0zB",
    "outputId": "02d451f9-aa2b-461d-de7c-2ee3d58cbe6b"
   },
   "outputs": [
    {
     "name": "stdout",
     "output_type": "stream",
     "text": [
      "Epoch 1/50\n",
      "521/521 [==============================] - ETA: 0s - loss: 0.8559 - accuracy: 0.6777\n",
      "Epoch 1: val_accuracy improved from -inf to 0.44568, saving model to model1_with_augmentation_save/weights-01-0.4457.hdf5\n",
      "521/521 [==============================] - 980s 2s/step - loss: 0.8559 - accuracy: 0.6777 - val_loss: 4.2352 - val_accuracy: 0.4457\n",
      "Epoch 2/50\n",
      "521/521 [==============================] - ETA: 0s - loss: 0.6007 - accuracy: 0.7821\n",
      "Epoch 2: val_accuracy improved from 0.44568 to 0.56594, saving model to model1_with_augmentation_save/weights-02-0.5659.hdf5\n",
      "521/521 [==============================] - 965s 2s/step - loss: 0.6007 - accuracy: 0.7821 - val_loss: 1.1848 - val_accuracy: 0.5659\n",
      "Epoch 3/50\n",
      "521/521 [==============================] - ETA: 0s - loss: 0.4538 - accuracy: 0.8413\n",
      "Epoch 3: val_accuracy improved from 0.56594 to 0.61530, saving model to model1_with_augmentation_save/weights-03-0.6153.hdf5\n",
      "521/521 [==============================] - 965s 2s/step - loss: 0.4538 - accuracy: 0.8413 - val_loss: 0.9015 - val_accuracy: 0.6153\n",
      "Epoch 4/50\n",
      "521/521 [==============================] - ETA: 0s - loss: 0.3739 - accuracy: 0.8698\n",
      "Epoch 4: val_accuracy improved from 0.61530 to 0.71903, saving model to model1_with_augmentation_save/weights-04-0.7190.hdf5\n",
      "521/521 [==============================] - 983s 2s/step - loss: 0.3739 - accuracy: 0.8698 - val_loss: 0.7626 - val_accuracy: 0.7190\n",
      "Epoch 5/50\n",
      "521/521 [==============================] - ETA: 0s - loss: 0.3326 - accuracy: 0.8845\n",
      "Epoch 5: val_accuracy improved from 0.71903 to 0.86572, saving model to model1_with_augmentation_save/weights-05-0.8657.hdf5\n",
      "521/521 [==============================] - 964s 2s/step - loss: 0.3326 - accuracy: 0.8845 - val_loss: 0.3823 - val_accuracy: 0.8657\n",
      "Epoch 6/50\n",
      "521/521 [==============================] - ETA: 0s - loss: 0.3067 - accuracy: 0.8919\n",
      "Epoch 6: val_accuracy did not improve from 0.86572\n",
      "521/521 [==============================] - 981s 2s/step - loss: 0.3067 - accuracy: 0.8919 - val_loss: 0.4571 - val_accuracy: 0.8428\n",
      "Epoch 7/50\n",
      "521/521 [==============================] - ETA: 0s - loss: 0.2922 - accuracy: 0.8976\n",
      "Epoch 7: val_accuracy improved from 0.86572 to 0.87530, saving model to model1_with_augmentation_save/weights-07-0.8753.hdf5\n",
      "521/521 [==============================] - 973s 2s/step - loss: 0.2922 - accuracy: 0.8976 - val_loss: 0.3410 - val_accuracy: 0.8753\n",
      "Epoch 8/50\n",
      "521/521 [==============================] - ETA: 0s - loss: 0.2761 - accuracy: 0.9032\n",
      "Epoch 8: val_accuracy did not improve from 0.87530\n",
      "521/521 [==============================] - 960s 2s/step - loss: 0.2761 - accuracy: 0.9032 - val_loss: 0.7044 - val_accuracy: 0.7313\n",
      "Epoch 9/50\n",
      "521/521 [==============================] - ETA: 0s - loss: 0.2667 - accuracy: 0.9066\n",
      "Epoch 9: val_accuracy improved from 0.87530 to 0.89441, saving model to model1_with_augmentation_save/weights-09-0.8944.hdf5\n",
      "521/521 [==============================] - 959s 2s/step - loss: 0.2667 - accuracy: 0.9066 - val_loss: 0.3140 - val_accuracy: 0.8944\n",
      "Epoch 10/50\n",
      "521/521 [==============================] - ETA: 0s - loss: 0.2577 - accuracy: 0.9102\n",
      "Epoch 10: val_accuracy did not improve from 0.89441\n",
      "521/521 [==============================] - 961s 2s/step - loss: 0.2577 - accuracy: 0.9102 - val_loss: 0.7381 - val_accuracy: 0.7097\n",
      "Epoch 11/50\n",
      "521/521 [==============================] - ETA: 0s - loss: 0.2501 - accuracy: 0.9130\n",
      "Epoch 11: val_accuracy did not improve from 0.89441\n",
      "521/521 [==============================] - 966s 2s/step - loss: 0.2501 - accuracy: 0.9130 - val_loss: 0.3561 - val_accuracy: 0.8752\n",
      "Epoch 12/50\n",
      "521/521 [==============================] - ETA: 0s - loss: 0.2472 - accuracy: 0.9129\n",
      "Epoch 12: val_accuracy did not improve from 0.89441\n",
      "521/521 [==============================] - 969s 2s/step - loss: 0.2472 - accuracy: 0.9129 - val_loss: 0.3747 - val_accuracy: 0.8675\n",
      "Epoch 13/50\n",
      "521/521 [==============================] - ETA: 0s - loss: 0.2416 - accuracy: 0.9151\n",
      "Epoch 13: val_accuracy did not improve from 0.89441\n",
      "521/521 [==============================] - 968s 2s/step - loss: 0.2416 - accuracy: 0.9151 - val_loss: 0.3553 - val_accuracy: 0.8750\n",
      "Epoch 14/50\n",
      "521/521 [==============================] - ETA: 0s - loss: 0.2361 - accuracy: 0.9172\n",
      "Epoch 14: val_accuracy did not improve from 0.89441\n",
      "521/521 [==============================] - 968s 2s/step - loss: 0.2361 - accuracy: 0.9172 - val_loss: 0.4155 - val_accuracy: 0.8495\n",
      "Epoch 14: early stopping\n"
     ]
    },
    {
     "data": {
      "text/plain": [
       "<keras.callbacks.History at 0x7f41adfe7850>"
      ]
     },
     "execution_count": 18,
     "metadata": {},
     "output_type": "execute_result"
    }
   ],
   "source": [
    "earlystop = EarlyStopping(monitor='val_accuracy', min_delta=0, patience=5, verbose=1)\n",
    "\n",
    "# Creating model1_with_augmentation_save folder before running the code.\n",
    "filepath=\"model1_with_augmentation_save/weights-{epoch:02d}-{val_accuracy:.4f}.hdf5\"\n",
    "checkpoint = ModelCheckpoint(filepath=filepath, monitor='val_accuracy',verbose=1, save_best_only=True, mode='max')\n",
    "\n",
    "# Callbacks\n",
    "optimizer = tf.keras.optimizers.Adam()\n",
    "model1.compile(optimizer=optimizer,loss=\"categorical_crossentropy\",metrics=[\"accuracy\"])\n",
    "\n",
    "# Creating a list with all the callbacks we want\n",
    "callback_list = [earlystop, checkpoint]\n",
    "\n",
    "train_samples = 66788\n",
    "validation_samples = 16696\n",
    "batch_size = 128\n",
    "model1.fit(train_generator, validation_data= validation_generator, steps_per_epoch=train_samples//batch_size, callbacks=callback_list, epochs=50)"
   ]
  },
  {
   "cell_type": "code",
   "execution_count": null,
   "metadata": {
    "colab": {
     "base_uri": "https://localhost:8080/",
     "height": 290
    },
    "id": "FD9Bd4bH7ScN",
    "outputId": "8fe7f8ea-48aa-40f7-812c-17f49089e9f1"
   },
   "outputs": [
    {
     "data": {
      "image/png": "[encoded data removed]",
      "text/plain": [
       "<Figure size 2160x360 with 2 Axes>"
      ]
     },
     "metadata": {
      "needs_background": "light"
     },
     "output_type": "display_data"
    }
   ],
   "source": [
    "# Plot training & validation acc values\n",
    "plt.figure(figsize=(30, 5))\n",
    "plt.subplot(121)\n",
    "plt.plot(model1.history.history['accuracy'])\n",
    "plt.plot(model1.history.history['val_accuracy'])\n",
    "plt.title('Model Accuracy')\n",
    "plt.ylabel('Accuracy')\n",
    "plt.xlabel('Epoch')\n",
    "plt.legend(['Train', 'Test'], loc='upper left')\n",
    "\n",
    "# Plot training & validation loss values\n",
    "plt.subplot(122)\n",
    "plt.plot(model1.history.history['loss'])\n",
    "plt.plot(model1.history.history['val_loss'])\n",
    "plt.title('Model loss')\n",
    "plt.ylabel('Loss')\n",
    "plt.xlabel('Epoch')\n",
    "plt.legend(['Train', 'Test'], loc='upper left')\n",
    "plt.show()"
   ]
  },
  {
   "cell_type": "code",
   "execution_count": 14,
   "metadata": {
    "colab": {
     "base_uri": "https://localhost:8080/"
    },
    "id": "W0RtlVRfOB_G",
    "outputId": "2851cf3b-4bd7-458c-dc2c-e2b2ac79e5df"
   },
   "outputs": [
    {
     "name": "stdout",
     "output_type": "stream",
     "text": [
      "Found 968 images belonging to 4 classes.\n",
      "8/8 [==============================] - 12s 1s/step - loss: 0.1821 - accuracy: 0.9442\n",
      "Accuracy on Test Dataset:94.42148804664612, Loss on Test Dataset: 0.18214717507362366\n"
     ]
    }
   ],
   "source": [
    "# Accuracy on test dataset\n",
    "\n",
    "test_generator = datagen.flow_from_directory(\n",
    "    \"/content/OCT2017 /test\",\n",
    "    target_size = (224, 224),\n",
    "    batch_size=128,\n",
    "    class_mode = \"categorical\",\n",
    "    shuffle = False)\n",
    "test_samples = 968\n",
    "batch_size = 128\n",
    "\n",
    "result = model1.evaluate(test_generator, steps = test_samples // batch_size+1, verbose = 1)\n",
    "print(\"Accuracy on Test Dataset:{0}, Loss on Test Dataset: {1}\".format(result[1]*100,result[0]))"
   ]
  },
  {
   "cell_type": "code",
   "execution_count": null,
   "metadata": {
    "colab": {
     "base_uri": "https://localhost:8080/",
     "height": 312
    },
    "id": "VY-mqqNbAhtz",
    "outputId": "f4adba16-0e0f-474d-b02c-345125d37d02"
   },
   "outputs": [
    {
     "name": "stdout",
     "output_type": "stream",
     "text": [
      "Found 968 images belonging to 4 classes.\n"
     ]
    },
    {
     "data": {
      "image/png": "[encoded data removed]",
      "text/plain": [
       "<Figure size 432x288 with 2 Axes>"
      ]
     },
     "metadata": {
      "needs_background": "light"
     },
     "output_type": "display_data"
    }
   ],
   "source": [
    "# Plot Confusion Matrix\n",
    "\n",
    "# predicted values\n",
    "y_pred = model1.predict(test_generator, test_samples // batch_size+1)\n",
    "predicted_values = np.argmax(y_pred, axis=1)\n",
    "\n",
    "confusionmatrix = confusion_matrix(test_generator.classes,predicted_values)\n",
    "plt.title(\"3 Layer CNN without Image Augmentation\")\n",
    "sns.heatmap(confusionmatrix, annot=True, cmap=\"YlGnBu\")\n",
    "plt.xlabel('Predicted Values')\n",
    "plt.ylabel('Actual Values')\n",
    "plt.show()"
   ]
  },
  {
   "cell_type": "markdown",
   "metadata": {
    "id": "-ayh0Db9SKlG"
   },
   "source": [
    "**Observations**\n",
    "\n",
    "We are getting an accuracy of 0.94 on the test dataset using simple 3 Layers CNN Model with Image Augmentation."
   ]
  },
  {
   "cell_type": "markdown",
   "metadata": {
    "id": "Bqkv8m_wSMgQ"
   },
   "source": [
    "### Observations:\n",
    "1. We are splitting the training dataset into training and validation dataset such that 80% of the images belong to training dataset and 20% of the images belong to validation dataset.\n",
    "2. We're using ImageDataGenerator class to rescale pixel values from 0-255 to the preferred range of 0-1.\n",
    "3. We have applied a simple 3 Layers CNN Model with and without Image Augmentation on the dataset. Without image augmentation we are getting an accuracy of 0.88 on the test dataset and with image augmentation we are getting an accuracy of 0.94 on the test dataset.\n",
    "4. We can observe from the accuracy and loss graph that in case of 3 Layers CNN model without image augmentation our model is somewhat overfitting. On the other hand, in case of 3 Layers CNN model with image augmentation our model is performing perfectly well.\n",
    "5. We can also observe that in case of 3 Layers CNN model with image augmentation we are getting much better results as compared to 3 Layers CNN model without image augmentation.\n",
    "\n",
    "### Takeways:\n",
    "1. Image augmentation is a critical aspect of this Kaggle problem.\n",
    "2. Next we can start applying more complex models and try to achieve much higher accuracy."
   ]
  },
  {
   "cell_type": "code",
   "execution_count": null,
   "metadata": {
    "id": "uNm7-2o9AsAQ"
   },
   "outputs": [],
   "source": []
  }
 ],
 "metadata": {
  "accelerator": "GPU",
  "colab": {
   "collapsed_sections": [],
   "machine_shape": "hm",
   "name": "02 3CNN with and without Image Augmentation.ipynb",
   "provenance": []
  },
  "kernelspec": {
   "display_name": "Python 3",
   "language": "python",
   "name": "python3"
  },
  "language_info": {
   "codemirror_mode": {
    "name": "ipython",
    "version": 3
   },
   "file_extension": ".py",
   "mimetype": "text/x-python",
   "name": "python",
   "nbconvert_exporter": "python",
   "pygments_lexer": "ipython3",
   "version": "3.8.8"
  }
 },
 "nbformat": 4,
 "nbformat_minor": 1
}
