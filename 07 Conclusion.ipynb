{
 "cells": [
  {
   "cell_type": "code",
   "execution_count": 1,
   "id": "6e868eed",
   "metadata": {},
   "outputs": [],
   "source": [
    "from prettytable import PrettyTable"
   ]
  },
  {
   "cell_type": "code",
   "execution_count": 2,
   "id": "298d47bd",
   "metadata": {},
   "outputs": [
    {
     "name": "stdout",
     "output_type": "stream",
     "text": [
      "+---------------------------------------------------------+----------------+---------------------+---------------+\n",
      "|                        Model Name                       | Train Accuracy | Validation Accuracy | Test Accuracy |\n",
      "+---------------------------------------------------------+----------------+---------------------+---------------+\n",
      "|            3CNN (without Image Augmentation)            |     0.9338     |        0.9135       |     0.8833    |\n",
      "|              3CNN (with Image Augmentation)             |     0.9172     |       0.89441       |     0.9442    |\n",
      "|              7CNN (with Image Augmentation)             |     0.9636     |       0.95214       |     0.9638    |\n",
      "|    VGG16 Transfer Learning (with Image Augmentation)    |     0.8979     |       0.89512       |     0.9287    |\n",
      "|   ResNet50 Transfer Learning (with Image Augmentation)  |     0.9171     |       0.93663       |     0.9618    |\n",
      "| DenseNet121 Transfer Learning (with Image Augmentation) |     0.9479     |        0.9342       |     0.9845    |\n",
      "+---------------------------------------------------------+----------------+---------------------+---------------+\n"
     ]
    }
   ],
   "source": [
    "x = PrettyTable()\n",
    "x.field_names = ['Model Name', 'Train Accuracy', 'Validation Accuracy', 'Test Accuracy']\n",
    "x.add_row(['3CNN (without Image Augmentation)', '0.9338', '0.9135', '0.8833'])\n",
    "x.add_row(['3CNN (with Image Augmentation)', '0.9172', '0.89441', '0.9442'])\n",
    "x.add_row(['7CNN (with Image Augmentation)', '0.9636', '0.95214', '0.9638'])\n",
    "x.add_row(['VGG16 Transfer Learning (with Image Augmentation)', '0.8979', '0.89512', '0.9287'])\n",
    "x.add_row(['ResNet50 Transfer Learning (with Image Augmentation)','0.9171', '0.93663', '0.9618'])\n",
    "x.add_row(['DenseNet121 Transfer Learning (with Image Augmentation)', '0.9479', '0.9342', '0.9845'])\n",
    "print(x)"
   ]
  },
  {
   "cell_type": "markdown",
   "id": "c44037d8",
   "metadata": {},
   "source": [
    "<b>Observations:</b>\n",
    "\n",
    "DenseNet121 Transfer Learning (with Image Augmentation) outperforms the other five models. DenseNet121 Transfer Learning has the highest accuracy score (0.9845) on test data."
   ]
  },
  {
   "cell_type": "code",
   "execution_count": null,
   "id": "8f17b56c",
   "metadata": {},
   "outputs": [],
   "source": []
  }
 ],
 "metadata": {
  "kernelspec": {
   "display_name": "Python 3",
   "language": "python",
   "name": "python3"
  },
  "language_info": {
   "codemirror_mode": {
    "name": "ipython",
    "version": 3
   },
   "file_extension": ".py",
   "mimetype": "text/x-python",
   "name": "python",
   "nbconvert_exporter": "python",
   "pygments_lexer": "ipython3",
   "version": "3.8.8"
  }
 },
 "nbformat": 4,
 "nbformat_minor": 5
}
